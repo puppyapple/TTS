{
 "cells": [
  {
   "cell_type": "code",
   "execution_count": 7,
   "metadata": {},
   "outputs": [],
   "source": [
    "import re\n",
    "import phonemizer\n",
    "from phonemizer.phonemize import phonemize"
   ]
  },
  {
   "cell_type": "code",
   "execution_count": 4,
   "metadata": {},
   "outputs": [],
   "source": [
    "_pad = '_'\n",
    "_eos = '~'\n",
    "_bos = '^'\n",
    "_characters = 'ABCDEFGHIJKLMNOPQRSTUVWXYZabcdefghijklmnopqrstuvwxyz!\\'(),-.:;? '\n",
    "_punctuations = '!\\'(),-.:;? '\n",
    "_phoneme_punctuations = '.!;:,?'\n",
    "# add numbers\n",
    "_numbers = '1234567890'\n",
    "\n",
    "# Phonemes definition\n",
    "_vowels = 'iyɨʉɯuɪʏʊeøɘəɵɤoɛœɜɞʌɔæɐaɶɑɒᵻ'\n",
    "_non_pulmonic_consonants = 'ʘɓǀɗǃʄǂɠǁʛ'\n",
    "_pulmonic_consonants = 'pbtdʈɖcɟkɡqɢʔɴŋɲɳnɱmʙrʀⱱɾɽɸβfvθðszʃʒʂʐçʝxɣχʁħʕhɦɬɮʋɹɻjɰlɭʎʟ'\n",
    "_suprasegmentals = 'ˈˌːˑ'\n",
    "_other_symbols = 'ʍwɥʜʢʡɕʑɺɧ'\n",
    "_diacrilics = 'ɚ˞ɫ'\n",
    "_phonemes = sorted(list(_vowels + _non_pulmonic_consonants + _pulmonic_consonants + _suprasegmentals + _other_symbols + _diacrilics))\n",
    "\n",
    "# Prepend \"@\" to ARPAbet symbols to ensure uniqueness (some are the same as uppercase letters):\n",
    "_arpabet = ['@' + s for s in _phonemes]\n",
    "\n",
    "# Export all symbols:\n",
    "symbols = [_pad, _eos, _bos] + list(_characters) + list(_numbers) + _arpabet\n",
    "phonemes = [_pad, _eos, _bos] + list(_phonemes) + list(_punctuations)"
   ]
  },
  {
   "cell_type": "code",
   "execution_count": 10,
   "metadata": {},
   "outputs": [],
   "source": [
    "_SYMBOL_TO_ID = {s: i for i, s in enumerate(symbols)}\n",
    "_ID_TO_SYMBOL = {i: s for i, s in enumerate(symbols)}\n",
    "\n",
    "_PHONEMES_TO_ID = {s: i for i, s in enumerate(phonemes)}\n",
    "_ID_TO_PHONEMES = {i: s for i, s in enumerate(phonemes)}\n",
    "\n",
    "# Regular expression matching text enclosed in curly braces:\n",
    "_CURLY_RE = re.compile(r'(.*?)\\{(.+?)\\}(.*)')\n",
    "\n",
    "# Regular expression matching punctuations, ignoring empty space\n",
    "PHONEME_PUNCTUATION_PATTERN = r'['+_phoneme_punctuations+']+'"
   ]
  },
  {
   "cell_type": "code",
   "execution_count": 11,
   "metadata": {},
   "outputs": [],
   "source": [
    "def text2phone(text, language):\n",
    "    '''\n",
    "    Convert graphemes to phonemes.\n",
    "    '''\n",
    "    seperator = phonemizer.separator.Separator(' |', '', '|')\n",
    "    #try:\n",
    "    punctuations = re.findall(PHONEME_PUNCTUATION_PATTERN, text)\n",
    "    ph = phonemize(text, separator=seperator, strip=False, njobs=1, backend='espeak', language=language)\n",
    "    ph = ph[:-1].strip() # skip the last empty character\n",
    "    # Replace \\n with matching punctuations.\n",
    "    if punctuations:\n",
    "        # if text ends with a punctuation.\n",
    "        if text[-1] == punctuations[-1]:\n",
    "            for punct in punctuations[:-1]:\n",
    "                ph = ph.replace('| |\\n', '|'+punct+'| |', 1)\n",
    "            try:\n",
    "                ph = ph + punctuations[-1]\n",
    "            except:\n",
    "                print(text)\n",
    "        else:\n",
    "            for punct in punctuations:\n",
    "                ph = ph.replace('| |\\n', '|'+punct+'| |', 1)\n",
    "    return ph"
   ]
  },
  {
   "cell_type": "code",
   "execution_count": null,
   "metadata": {},
   "outputs": [],
   "source": [
    "text2phone(\"zhe4 shi4 yi2 ge4 ce4 shi4\", 'zh')"
   ]
  },
  {
   "cell_type": "code",
   "execution_count": 13,
   "metadata": {},
   "outputs": [],
   "source": [
    "import torch"
   ]
  },
  {
   "cell_type": "code",
   "execution_count": 14,
   "metadata": {},
   "outputs": [],
   "source": [
    "a = torch.rand(2,3)"
   ]
  },
  {
   "cell_type": "code",
   "execution_count": 15,
   "metadata": {},
   "outputs": [
    {
     "data": {
      "text/plain": [
       "tensor([[0.6945, 0.6402, 0.2024],\n",
       "        [0.2838, 0.7556, 0.7150]])"
      ]
     },
     "execution_count": 15,
     "metadata": {},
     "output_type": "execute_result"
    }
   ],
   "source": [
    "a"
   ]
  },
  {
   "cell_type": "code",
   "execution_count": 16,
   "metadata": {},
   "outputs": [],
   "source": [
    "b = torch.rand(2, 3)"
   ]
  },
  {
   "cell_type": "code",
   "execution_count": 18,
   "metadata": {},
   "outputs": [
    {
     "data": {
      "text/plain": [
       "tensor([[0.6912, 0.3595, 0.9306],\n",
       "        [0.7640, 0.3551, 0.0105]])"
      ]
     },
     "execution_count": 18,
     "metadata": {},
     "output_type": "execute_result"
    }
   ],
   "source": [
    "b"
   ]
  },
  {
   "cell_type": "code",
   "execution_count": 17,
   "metadata": {},
   "outputs": [
    {
     "data": {
      "text/plain": [
       "tensor([[0.4800, 0.2301, 0.1883],\n",
       "        [0.2168, 0.2683, 0.0075]])"
      ]
     },
     "execution_count": 17,
     "metadata": {},
     "output_type": "execute_result"
    }
   ],
   "source": [
    "a * b"
   ]
  },
  {
   "cell_type": "code",
   "execution_count": 19,
   "metadata": {},
   "outputs": [],
   "source": [
    "l = [(1, 2), (3, 4), (5, 6)]"
   ]
  },
  {
   "cell_type": "code",
   "execution_count": 20,
   "metadata": {},
   "outputs": [],
   "source": [
    "x = []"
   ]
  },
  {
   "cell_type": "code",
   "execution_count": 21,
   "metadata": {},
   "outputs": [],
   "source": [
    "for i in range(0, 3):\n",
    "    for a, b in l:\n",
    "        a = a * 3\n",
    "        b = b * 9\n",
    "        break\n",
    "    x.append((a, b))"
   ]
  },
  {
   "cell_type": "code",
   "execution_count": 22,
   "metadata": {},
   "outputs": [
    {
     "data": {
      "text/plain": [
       "[(3, 18), (3, 18), (3, 18)]"
      ]
     },
     "execution_count": 22,
     "metadata": {},
     "output_type": "execute_result"
    }
   ],
   "source": [
    "x"
   ]
  },
  {
   "cell_type": "code",
   "execution_count": 23,
   "metadata": {},
   "outputs": [
    {
     "data": {
      "text/plain": [
       "[(1, 2), (3, 4), (5, 6)]"
      ]
     },
     "execution_count": 23,
     "metadata": {},
     "output_type": "execute_result"
    }
   ],
   "source": [
    "l"
   ]
  },
  {
   "cell_type": "code",
   "execution_count": 1,
   "metadata": {},
   "outputs": [],
   "source": [
    "from layers.common_layers import LinearBN"
   ]
  },
  {
   "cell_type": "code",
   "execution_count": 2,
   "metadata": {},
   "outputs": [],
   "source": [
    "x = LinearBN(10, 10)"
   ]
  },
  {
   "cell_type": "code",
   "execution_count": 3,
   "metadata": {},
   "outputs": [],
   "source": [
    "import numpy as np"
   ]
  },
  {
   "cell_type": "code",
   "execution_count": 7,
   "metadata": {},
   "outputs": [
    {
     "data": {
      "text/plain": [
       "array([  5,  25, 600])"
      ]
     },
     "execution_count": 7,
     "metadata": {},
     "output_type": "execute_result"
    }
   ],
   "source": [
    "np.cumprod([5,5,24])"
   ]
  },
  {
   "cell_type": "code",
   "execution_count": null,
   "metadata": {},
   "outputs": [],
   "source": []
  }
 ],
 "metadata": {
  "kernelspec": {
   "display_name": "tacotron2",
   "language": "python",
   "name": "tacotron2"
  },
  "language_info": {
   "codemirror_mode": {
    "name": "ipython",
    "version": 3
   },
   "file_extension": ".py",
   "mimetype": "text/x-python",
   "name": "python",
   "nbconvert_exporter": "python",
   "pygments_lexer": "ipython3",
   "version": "3.7.4"
  }
 },
 "nbformat": 4,
 "nbformat_minor": 4
}
